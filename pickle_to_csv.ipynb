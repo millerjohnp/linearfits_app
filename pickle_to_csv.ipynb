{
 "cells": [
  {
   "cell_type": "code",
   "execution_count": 28,
   "metadata": {},
   "outputs": [
    {
     "name": "stdout",
     "output_type": "stream",
     "text": [
      "The autoreload extension is already loaded. To reload it, use:\n",
      "  %reload_ext autoreload\n"
     ]
    }
   ],
   "source": [
    "%load_ext autoreload\n",
    "%autoreload 2"
   ]
  },
  {
   "cell_type": "code",
   "execution_count": 29,
   "metadata": {},
   "outputs": [],
   "source": [
    "import pickle\n",
    "import pandas as pd\n",
    "\n",
    "import statsmodels.stats.api as sms"
   ]
  },
  {
   "cell_type": "code",
   "execution_count": 30,
   "metadata": {},
   "outputs": [],
   "source": [
    "with open(\"mldb_2021-07-16.pickle\", 'rb') as f:\n",
    "    evals = pickle.load(f)"
   ]
  },
  {
   "cell_type": "code",
   "execution_count": 31,
   "metadata": {},
   "outputs": [],
   "source": [
    "df = pd.DataFrame(evals)"
   ]
  },
  {
   "cell_type": "code",
   "execution_count": 32,
   "metadata": {},
   "outputs": [],
   "source": [
    "# Ignore checkpoints for now\n",
    "df = df[df.epoch == -1]"
   ]
  },
  {
   "cell_type": "code",
   "execution_count": 33,
   "metadata": {},
   "outputs": [],
   "source": [
    "# Add metrics\n",
    "df['accuracy'] = df.stats.apply(lambda x: x['num_correct_and_size'][0] / x['num_correct_and_size'][1])\n",
    "\n",
    "num_correct_vals = df.stats.apply(lambda x: x['num_correct_and_size'][0]).values\n",
    "size_vals = df.stats.apply(lambda x: x['num_correct_and_size'][1]).values\n",
    "cis = sms.proportion_confint(num_correct_vals, size_vals, alpha=0.05, method='beta')\n",
    "df['accuracy_ci'] = list(zip(*cis))"
   ]
  },
  {
   "cell_type": "code",
   "execution_count": null,
   "metadata": {},
   "outputs": [],
   "source": []
  },
  {
   "cell_type": "code",
   "execution_count": 34,
   "metadata": {},
   "outputs": [],
   "source": [
    "# Pairs of id-train, id-test\n",
    "ID_PAIRS = [\n",
    "    (\"cifar10-train\", \"cifar10-test\"),\n",
    "    (\"cifar10-train\", \"cifar10-STL10classes\"),\n",
    "    (\"FMoW-train\", \"FMoW-id_test\"),\n",
    "    (\"FMoW-train\", \"FMoW-id_val\"),\n",
    "    # TODO: Add more here\n",
    "]"
   ]
  },
  {
   "cell_type": "code",
   "execution_count": 35,
   "metadata": {},
   "outputs": [],
   "source": [
    "def reformat(_df, train, test):\n",
    "    test_eval = _df[_df.test_set == test]\n",
    "    if len(test_eval) == 0:\n",
    "        return pd.DataFrame()\n",
    "    test_eval = test_eval.iloc[0]\n",
    "    shift_evals = _df[~_df.test_set.isin([train, test])]\n",
    "    newdf = shift_evals[[\"model_family\", \"model_id\", \"epoch\", \"rule_params\"]]\n",
    "    newdf = newdf.rename(columns={\"rule_params\": \"hyperparameters\"})\n",
    "    newdf[\"train_set\"] = train\n",
    "    newdf[\"test_set\"] = test\n",
    "    newdf[\"shift_set\"] = shift_evals[\"test_set\"]\n",
    "    newdf[\"test_accuracy\"] = test_eval.accuracy\n",
    "    newdf[\"test_accuracy_ci\"] = [test_eval.accuracy_ci for _ in range(len(newdf))]\n",
    "    newdf[\"shift_accuracy\"] = shift_evals[\"accuracy\"]\n",
    "    newdf[\"shift_accuracy_ci\"] = shift_evals[\"accuracy_ci\"]\n",
    "    return newdf"
   ]
  },
  {
   "cell_type": "code",
   "execution_count": 36,
   "metadata": {},
   "outputs": [],
   "source": [
    "new_df = []\n",
    "for train, test in ID_PAIRS:\n",
    "    df_train = df[df.train_set == train]\n",
    "    shift_sets = set(df_train.test_set) - set([train, test])\n",
    "    new_df.extend([reformat(modeldf, train, test) for _, modeldf in df_train.groupby(\"model_id\")])"
   ]
  },
  {
   "cell_type": "code",
   "execution_count": 37,
   "metadata": {},
   "outputs": [],
   "source": [
    "new_df = pd.concat(new_df)"
   ]
  },
  {
   "cell_type": "code",
   "execution_count": 38,
   "metadata": {},
   "outputs": [],
   "source": [
    "def rename_model_family(model_family):\n",
    "    if \"RandFeatures\" in model_family:\n",
    "        return \"RandomFeatures\"\n",
    "    elif \"K_nearest_neighbors\" in model_family:\n",
    "        return \"KNN\"\n",
    "    return model_family\n",
    "\n",
    "new_df[\"model_family\"] = new_df.model_family.apply(rename_model_family)"
   ]
  },
  {
   "cell_type": "code",
   "execution_count": 39,
   "metadata": {},
   "outputs": [],
   "source": [
    "def rename_test_set(ts):\n",
    "    if ts == \"cifar10-STL10classes\":\n",
    "        return \"cifar10-test-STL10classes\"\n",
    "    return ts\n",
    "new_df[\"test_set\"] = new_df.test_set.apply(rename_test_set)"
   ]
  },
  {
   "cell_type": "code",
   "execution_count": 40,
   "metadata": {},
   "outputs": [],
   "source": [
    "new_df.to_csv(\"results.csv\", index=False)"
   ]
  },
  {
   "cell_type": "code",
   "execution_count": null,
   "metadata": {},
   "outputs": [],
   "source": []
  }
 ],
 "metadata": {
  "kernelspec": {
   "display_name": "Python 3",
   "language": "python",
   "name": "python3"
  },
  "language_info": {
   "codemirror_mode": {
    "name": "ipython",
    "version": 3
   },
   "file_extension": ".py",
   "mimetype": "text/x-python",
   "name": "python",
   "nbconvert_exporter": "python",
   "pygments_lexer": "ipython3",
   "version": "3.7.3"
  }
 },
 "nbformat": 4,
 "nbformat_minor": 2
}
