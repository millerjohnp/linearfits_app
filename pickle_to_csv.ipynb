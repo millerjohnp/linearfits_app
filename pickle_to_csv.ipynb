{
 "cells": [
  {
   "cell_type": "code",
   "execution_count": 1,
   "metadata": {},
   "outputs": [],
   "source": [
    "%load_ext autoreload\n",
    "%autoreload 2"
   ]
  },
  {
   "cell_type": "code",
   "execution_count": 2,
   "metadata": {},
   "outputs": [],
   "source": [
    "import pickle\n",
    "import pandas as pd\n",
    "\n",
    "import statsmodels.stats.api as sms"
   ]
  },
  {
   "cell_type": "code",
   "execution_count": 3,
   "metadata": {},
   "outputs": [],
   "source": [
    "with open(\"mldb_2021-07-16.pickle\", 'rb') as f:\n",
    "    evals = pickle.load(f)"
   ]
  },
  {
   "cell_type": "code",
   "execution_count": 4,
   "metadata": {},
   "outputs": [],
   "source": [
    "df = pd.DataFrame(evals)"
   ]
  },
  {
   "cell_type": "code",
   "execution_count": 5,
   "metadata": {},
   "outputs": [],
   "source": [
    "# Ignore checkpoints for now\n",
    "df = df[df.epoch == -1]"
   ]
  },
  {
   "cell_type": "code",
   "execution_count": 6,
   "metadata": {},
   "outputs": [],
   "source": [
    "# Add metrics\n",
    "df['accuracy'] = df.stats.apply(lambda x: x['num_correct_and_size'][0] / x['num_correct_and_size'][1])\n",
    "\n",
    "num_correct_vals = df.stats.apply(lambda x: x['num_correct_and_size'][0]).values\n",
    "size_vals = df.stats.apply(lambda x: x['num_correct_and_size'][1]).values\n",
    "cis = sms.proportion_confint(num_correct_vals, size_vals, alpha=0.05, method='beta')\n",
    "df['accuracy_ci'] = list(zip(*cis))"
   ]
  },
  {
   "cell_type": "code",
   "execution_count": null,
   "metadata": {},
   "outputs": [],
   "source": []
  },
  {
   "cell_type": "code",
   "execution_count": 7,
   "metadata": {},
   "outputs": [],
   "source": [
    "# Pairs of id-train, id-test\n",
    "ID_PAIRS = [\n",
    "    (\"cifar10-train\", \"cifar10-test\"),\n",
    "    (\"FMoW-train\", \"FMoW-id_test\"),\n",
    "    (\"FMoW-train\", \"FMoW-id_val\"),\n",
    "    # TODO: Add more here\n",
    "]"
   ]
  },
  {
   "cell_type": "code",
   "execution_count": 8,
   "metadata": {},
   "outputs": [],
   "source": [
    "def reformat(_df, train, test):\n",
    "    test_eval = _df[_df.test_set == test]\n",
    "    if len(test_eval) == 0:\n",
    "        return pd.DataFrame()\n",
    "    test_eval = test_eval.iloc[0]\n",
    "    shift_evals = _df[~_df.test_set.isin([train, test])]\n",
    "    newdf = shift_evals[[\"model_family\", \"model_id\", \"epoch\", \"rule_params\"]]\n",
    "    newdf = newdf.rename(columns={\"rule_params\": \"hyperparameters\"})\n",
    "    newdf[\"train_set\"] = train\n",
    "    newdf[\"test_set\"] = test\n",
    "    newdf[\"shift_set\"] = shift_evals[\"test_set\"]\n",
    "    newdf[\"test_accuracy\"] = test_eval.accuracy\n",
    "    newdf[\"test_accuracy_ci\"] = [test_eval.accuracy_ci for _ in range(len(newdf))]\n",
    "    newdf[\"shift_accuracy\"] = shift_evals[\"accuracy\"]\n",
    "    newdf[\"shift_accuracy_ci\"] = shift_evals[\"accuracy_ci\"]\n",
    "    return newdf"
   ]
  },
  {
   "cell_type": "code",
   "execution_count": 9,
   "metadata": {},
   "outputs": [],
   "source": [
    "new_df = []\n",
    "for train, test in ID_PAIRS:\n",
    "    df_train = df[df.train_set == train]\n",
    "    shift_sets = set(df_train.test_set) - set([train, test])\n",
    "    new_df.extend([reformat(modeldf, train, test) for _, modeldf in df_train.groupby(\"model_id\")])"
   ]
  },
  {
   "cell_type": "code",
   "execution_count": 10,
   "metadata": {},
   "outputs": [],
   "source": [
    "new_df = pd.concat(new_df)"
   ]
  },
  {
   "cell_type": "code",
   "execution_count": 11,
   "metadata": {},
   "outputs": [],
   "source": [
    "def rename_model_family(model_family):\n",
    "    if \"RandFeatures\" in model_family:\n",
    "        return \"RandomFeatures\"\n",
    "    elif \"K_nearest_neighbors\" in model_family:\n",
    "        return \"KNN\"\n",
    "    return model_family\n",
    "\n",
    "new_df[\"model_family\"] = new_df.model_family.apply(rename_model_family)"
   ]
  },
  {
   "cell_type": "code",
   "execution_count": 22,
   "metadata": {},
   "outputs": [],
   "source": [
    "# Filter out random shift sets\n",
    "def shift_filter(row):\n",
    "    if row.train_set == \"cifar10-train\":\n",
    "        shift_set = row.shift_set\n",
    "        if \"cifar10c\" in shift_set:\n",
    "            return True\n",
    "        if \"CifarCov\" in shift_set:\n",
    "            return False\n",
    "        if \"tmp\" in shift_set:\n",
    "            return False\n",
    "        if \"train_10k\" in shift_set:\n",
    "            return False\n",
    "        return True\n",
    "    return True\n",
    "\n",
    "filtered_df = new_df[new_df.apply(shift_filter, axis=1)]"
   ]
  },
  {
   "cell_type": "code",
   "execution_count": 23,
   "metadata": {},
   "outputs": [],
   "source": [
    "filtered_df.to_csv(\"results.csv\", index=False)"
   ]
  },
  {
   "cell_type": "code",
   "execution_count": 30,
   "metadata": {},
   "outputs": [
    {
     "ename": "TypeError",
     "evalue": "'ascending' is an invalid keyword argument for sort()",
     "output_type": "error",
     "traceback": [
      "\u001b[0;31m---------------------------------------------------------------------------\u001b[0m",
      "\u001b[0;31mTypeError\u001b[0m                                 Traceback (most recent call last)",
      "\u001b[0;32m<ipython-input-30-1bf27b380ee6>\u001b[0m in \u001b[0;36m<module>\u001b[0;34m\u001b[0m\n\u001b[0;32m----> 1\u001b[0;31m \u001b[0ma\u001b[0m \u001b[0;34m=\u001b[0m \u001b[0msorted\u001b[0m\u001b[0;34m(\u001b[0m\u001b[0mfiltered_df\u001b[0m\u001b[0;34m.\u001b[0m\u001b[0mtrain_set\u001b[0m\u001b[0;34m.\u001b[0m\u001b[0munique\u001b[0m\u001b[0;34m(\u001b[0m\u001b[0;34m)\u001b[0m\u001b[0;34m,\u001b[0m \u001b[0mascending\u001b[0m\u001b[0;34m=\u001b[0m\u001b[0;32mFalse\u001b[0m\u001b[0;34m)\u001b[0m\u001b[0;34m\u001b[0m\u001b[0;34m\u001b[0m\u001b[0m\n\u001b[0m",
      "\u001b[0;31mTypeError\u001b[0m: 'ascending' is an invalid keyword argument for sort()"
     ]
    }
   ],
   "source": [
    "a = sorted(filtered_df.train_set.unique(), ascending=False)"
   ]
  },
  {
   "cell_type": "code",
   "execution_count": 29,
   "metadata": {},
   "outputs": [
    {
     "ename": "ValueError",
     "evalue": "'yo' is not in list",
     "output_type": "error",
     "traceback": [
      "\u001b[0;31m---------------------------------------------------------------------------\u001b[0m",
      "\u001b[0;31mValueError\u001b[0m                                Traceback (most recent call last)",
      "\u001b[0;32m<ipython-input-29-8d5d227b2dbd>\u001b[0m in \u001b[0;36m<module>\u001b[0;34m\u001b[0m\n\u001b[0;32m----> 1\u001b[0;31m \u001b[0ma\u001b[0m\u001b[0;34m.\u001b[0m\u001b[0mindex\u001b[0m\u001b[0;34m(\u001b[0m\u001b[0;34m\"yo\"\u001b[0m\u001b[0;34m)\u001b[0m\u001b[0;34m\u001b[0m\u001b[0;34m\u001b[0m\u001b[0m\n\u001b[0m",
      "\u001b[0;31mValueError\u001b[0m: 'yo' is not in list"
     ]
    }
   ],
   "source": [
    "a.index(\"yo\")"
   ]
  },
  {
   "cell_type": "code",
   "execution_count": null,
   "metadata": {},
   "outputs": [],
   "source": []
  }
 ],
 "metadata": {
  "kernelspec": {
   "display_name": "Python 3",
   "language": "python",
   "name": "python3"
  },
  "language_info": {
   "codemirror_mode": {
    "name": "ipython",
    "version": 3
   },
   "file_extension": ".py",
   "mimetype": "text/x-python",
   "name": "python",
   "nbconvert_exporter": "python",
   "pygments_lexer": "ipython3",
   "version": "3.7.3"
  }
 },
 "nbformat": 4,
 "nbformat_minor": 2
}
